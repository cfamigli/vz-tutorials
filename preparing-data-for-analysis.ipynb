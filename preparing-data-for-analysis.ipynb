{
 "cells": [
  {
   "cell_type": "markdown",
   "id": "33b2a8e8-7cd8-49d0-a709-bc33afa11782",
   "metadata": {},
   "source": [
    "# Preparing the Data for Analysis"
   ]
  },
  {
   "cell_type": "markdown",
   "id": "d0d03813-d899-4f1d-b230-8671922e45fb",
   "metadata": {},
   "source": [
    "This guide details how to access and prepare the different VanZyl-1 data products for further analysis. VZ-1 hosts two sensors: a visible and near-infrared imager (called VIRI) with a ground sample distance (GSD) of ~30 m, and a longwave infrared imager (called LIRI) with GSD ~70 m."
   ]
  },
  {
   "cell_type": "markdown",
   "id": "2c437530-a511-47a6-adb3-67bbbfe852b8",
   "metadata": {},
   "source": [
    "We'll start by accessing the STAC catalog so that we can query data for a specific area of interest (AOI) and time period of interest (TOI). See the ```vanzyl-1-quickstart``` or ```using-the-api``` guides for more detailed explanations of these steps."
   ]
  },
  {
   "cell_type": "code",
   "execution_count": 1,
   "id": "e138f581-dd92-483d-b761-cf5298b336aa",
   "metadata": {},
   "outputs": [],
   "source": [
    "# Import dependencies\n",
    "\n",
    "import json\n",
    "import requests\n",
    "import pystac\n",
    "from pystac_client import Client\n",
    "import os\n",
    "import base64\n",
    "import matplotlib.pyplot as plt"
   ]
  },
  {
   "cell_type": "code",
   "execution_count": 2,
   "id": "235f9e35-073a-4ad1-9b70-615cf750739f",
   "metadata": {},
   "outputs": [],
   "source": [
    "# Retrieve credentials\n",
    "\n",
    "with open('creds.json') as f:\n",
    "    creds = json.loads(f.read())"
   ]
  },
  {
   "cell_type": "code",
   "execution_count": 3,
   "id": "3054ac0c-b683-4746-b94a-db1b9e435afa",
   "metadata": {},
   "outputs": [],
   "source": [
    "# Connect to the catalog with your credentials\n",
    "\n",
    "userpass = f\"{creds['username']}:{creds['password']}\"\n",
    "b64 = base64.b64encode(userpass.encode()).decode()\n",
    "headers = {'Authorization':'Basic ' + b64}\n",
    "\n",
    "cat_url = 'https://stac.hydrosat.com'\n",
    "catalog = Client.open(cat_url, headers)"
   ]
  },
  {
   "cell_type": "markdown",
   "id": "f51438a3-2bdb-4797-aedf-0c21756787e7",
   "metadata": {},
   "source": [
    "The catalog contains different collections corresponding to the different VZ-1 data products.\n",
    "\n",
    "These collections represent:\n",
    "- Level 1A: Geolocated radiance (VIRI and LIRI data provided separately, with pixel resolution equivalent to GSD)\n",
    "- Level 1B: Geolocated radiance (VIRI and LIRI data aligned and resampled to 30 m)\n",
    "- Level 2: Surface reflectance and land surface temperature (30 m)"
   ]
  },
  {
   "cell_type": "markdown",
   "id": "87a8beca-327c-464d-a24c-854f28ca053b",
   "metadata": {},
   "source": [
    "## Level 1A Products"
   ]
  },
  {
   "cell_type": "markdown",
   "id": "2bfa14ed-6738-4225-95d9-3bed980797ea",
   "metadata": {},
   "source": [
    "Let's start by looking for data in the ```vz-l1a``` collection that intersects a specific AOI and TOI."
   ]
  },
  {
   "cell_type": "code",
   "execution_count": 5,
   "id": "a0861e5c-7bbf-4230-94ab-c04cc1abd90f",
   "metadata": {},
   "outputs": [
    {
     "name": "stdout",
     "output_type": "stream",
     "text": [
      "Found 8 items.\n"
     ]
    }
   ],
   "source": [
    "# Search for data that intersects your AOI and TOI\n",
    "\n",
    "geom = {'type': 'Point', 'coordinates': [-120.211,36.535]}\n",
    "\n",
    "search = catalog.search(\n",
    "    collections = [\"pydms_sharpened_landsat\"],\n",
    "    intersects = geom,\n",
    "    datetime = [\"2021-08-17\", \"2021-10-30\"],\n",
    "    max_items = 10\n",
    ")\n",
    "\n",
    "items = search.get_all_items()\n",
    "\n",
    "print(\"Found \" + str(len(list(items))) + \" items.\")"
   ]
  },
  {
   "cell_type": "markdown",
   "id": "41df66ce-346a-46d9-8b19-c101ea611649",
   "metadata": {},
   "source": [
    "Each item returned by the search represents an individual scene. The item provides information about where and when the imagery was captured, as well as contains links to the imagery files. At L1A, each item contains either LIRI or VIRI data. At L1B and above, data from both sensors is aligned and provided within a single item."
   ]
  },
  {
   "cell_type": "code",
   "execution_count": null,
   "id": "3694d1d3-05bd-428a-90ab-d5b6f11421ac",
   "metadata": {},
   "outputs": [],
   "source": [
    "items[0]"
   ]
  },
  {
   "cell_type": "markdown",
   "id": "d678eabe-34d4-4c96-8693-53421c5aad41",
   "metadata": {},
   "source": [
    "The L1A data is the least processed of the available imagery. It includes processing applied onboard the instrument, such as time delay integration and non-uniformity corrections, as well as co-registration of sensor bands and georegistration. The full swath data is provided to users in image space with no resampling. "
   ]
  },
  {
   "cell_type": "markdown",
   "id": "da4c262e-822a-4696-9379-fa3ce01dcaea",
   "metadata": {},
   "source": [
    "Each image asset contains digital number (DN) values. To convert these to radiance, we need gain and offset coefficients from the companion metadata file."
   ]
  },
  {
   "cell_type": "code",
   "execution_count": null,
   "id": "7a6b6cfd-fd69-4cf0-aac1-c420a70c9d11",
   "metadata": {},
   "outputs": [],
   "source": []
  },
  {
   "cell_type": "markdown",
   "id": "f039bff9-5d25-4945-ba33-c0ea1b3add2b",
   "metadata": {},
   "source": [
    "## Level 1B Products"
   ]
  },
  {
   "cell_type": "markdown",
   "id": "c5ea8110-6188-457e-ad34-0900c6aff34f",
   "metadata": {},
   "source": [
    "Now we'll search in a different collection, ```vz-l1b```, to explore the L1B data."
   ]
  },
  {
   "cell_type": "code",
   "execution_count": null,
   "id": "b1832786-b0a3-435a-9ae7-1aa2a98da685",
   "metadata": {},
   "outputs": [],
   "source": [
    "search = catalog.search(\n",
    "    collections = [\"pydms_sharpened_landsat\"],\n",
    "    intersects = geom,\n",
    "    datetime = [\"2021-08-17\", \"2021-10-30\"],\n",
    "    max_items = 10\n",
    ")\n",
    "\n",
    "items = search.get_all_items()\n",
    "\n",
    "print(\"Found \" + str(len(list(items))) + \" items.\")"
   ]
  },
  {
   "cell_type": "markdown",
   "id": "78651181-fd84-4563-8f6e-5bafea7eada2",
   "metadata": {},
   "source": [
    "Like L1A, the L1B data contains geolocated radiance data. However, L1B processing also includes alignment of the VIRI and LIRI data, generation of a cloud mask, and orthorectification."
   ]
  },
  {
   "cell_type": "markdown",
   "id": "e4328696-9153-4754-9440-565bee015dee",
   "metadata": {},
   "source": [
    "## Level 2 Products"
   ]
  },
  {
   "cell_type": "markdown",
   "id": "d78aeb7f-f5c6-4190-aed1-8dfb35287d46",
   "metadata": {},
   "source": [
    "Finally, let's dig into the surface reflectance and land surface temperature data provided at L2. This data is stored in the ```vz-l2``` collection."
   ]
  },
  {
   "cell_type": "code",
   "execution_count": null,
   "id": "74ef4ec3-f961-465a-944a-a7e94433a1b1",
   "metadata": {},
   "outputs": [],
   "source": [
    "search = catalog.search(\n",
    "    collections = [\"pydms_sharpened_landsat\"],\n",
    "    intersects = geom,\n",
    "    datetime = [\"2021-08-17\", \"2021-10-30\"],\n",
    "    max_items = 10\n",
    ")\n",
    "\n",
    "items = search.get_all_items()\n",
    "\n",
    "print(\"Found \" + str(len(list(items))) + \" items.\")"
   ]
  },
  {
   "cell_type": "markdown",
   "id": "6d6b8ac5-94ce-419e-864c-2e587fbbe207",
   "metadata": {},
   "source": [
    "The L2 items contain four imagery assets:\n",
    "1. Per-band surface reflectance (SR)\n",
    "2. Per-band emissivity\n",
    "3. Land surface temperature (LST)\n",
    "4. LST uncertainty"
   ]
  },
  {
   "cell_type": "code",
   "execution_count": null,
   "id": "118861ff-42bb-46e1-be64-03250a7c4b61",
   "metadata": {},
   "outputs": [],
   "source": []
  }
 ],
 "metadata": {
  "kernelspec": {
   "display_name": "Python 3 (ipykernel)",
   "language": "python",
   "name": "python3"
  },
  "language_info": {
   "codemirror_mode": {
    "name": "ipython",
    "version": 3
   },
   "file_extension": ".py",
   "mimetype": "text/x-python",
   "name": "python",
   "nbconvert_exporter": "python",
   "pygments_lexer": "ipython3",
   "version": "3.11.6"
  }
 },
 "nbformat": 4,
 "nbformat_minor": 5
}
