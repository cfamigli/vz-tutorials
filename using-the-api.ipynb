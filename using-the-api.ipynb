{
 "cells": [
  {
   "cell_type": "markdown",
   "id": "41ecfbed",
   "metadata": {},
   "source": [
    "# Searching the Catalog via API"
   ]
  },
  {
   "cell_type": "markdown",
   "id": "1b5f9e01-2ede-4783-af37-740e09e3a83d",
   "metadata": {},
   "source": [
    "This guide shows methods for using Hydrosat's SpatioTemporal Asset Catalog (STAC) API to search for data that meets your criteria. Topics covered include:\n",
    "- Searching by collection\n",
    "- Searching by area of interest\n",
    "- Searching by date range\n",
    "- Searching by metadata tag"
   ]
  },
  {
   "cell_type": "markdown",
   "id": "829ca988-41a8-4200-8626-a12cdc8caeb0",
   "metadata": {},
   "source": [
    "## 1. Import dependencies."
   ]
  },
  {
   "cell_type": "code",
   "execution_count": 16,
   "id": "26db5acd-6a5a-40f7-a0cd-a8ee89e022e7",
   "metadata": {},
   "outputs": [],
   "source": [
    "import json\n",
    "import requests\n",
    "import pystac\n",
    "from pystac_client import Client\n",
    "import os\n",
    "import base64\n",
    "import matplotlib.pyplot as plt"
   ]
  },
  {
   "cell_type": "markdown",
   "id": "11886778-7763-4e18-b92e-7581f98ae37c",
   "metadata": {},
   "source": [
    "## 2. Connect to the STAC API with your account credentials."
   ]
  },
  {
   "cell_type": "markdown",
   "id": "c8dde542-29c7-4723-b1a2-68cc1bdaa76e",
   "metadata": {},
   "source": [
    "#### Note: This step is optional if accessing imagery from Hydrosat's Open Data program."
   ]
  },
  {
   "cell_type": "markdown",
   "id": "85c422bd-7006-4992-9532-9d1d71979697",
   "metadata": {},
   "source": [
    "Before running this next cell, you'll need to edit the `creds.json` file provided in the same directory as this notebook.\n",
    "\n",
    "The format of the file should be:\n",
    "\n",
    "```\n",
    "{\n",
    "\"username\":\"<your_username>\",\n",
    "\"password\":\"<your_password>\"\n",
    "}\n",
    "```\n",
    "\n",
    "Leave the quotation marks as is."
   ]
  },
  {
   "cell_type": "code",
   "execution_count": 17,
   "id": "e6b6f7f9-8060-44e5-875d-695a37f24cf9",
   "metadata": {},
   "outputs": [],
   "source": [
    "with open('creds.json') as f:\n",
    "    creds = json.loads(f.read())"
   ]
  },
  {
   "cell_type": "markdown",
   "id": "4760f616-4cf5-4775-82aa-74051f55c17b",
   "metadata": {},
   "source": [
    "This next cell will endecode the `username:password` combination and use it to authorize access to the STAC API given by the `cat_url` endpoint. You don't need to make any changes here."
   ]
  },
  {
   "cell_type": "code",
   "execution_count": 18,
   "id": "7c12f439",
   "metadata": {},
   "outputs": [],
   "source": [
    "userpass = f\"{creds['username']}:{creds['password']}\"\n",
    "b64 = base64.b64encode(userpass.encode()).decode()\n",
    "headers = {'Authorization':'Basic ' + b64}\n",
    "\n",
    "cat_url = 'https://stac.hydrosat.com'\n",
    "catalog = Client.open(cat_url, headers)"
   ]
  },
  {
   "cell_type": "markdown",
   "id": "4ca9ffa5-92f4-40cd-8bcc-2faaa3a4cda9",
   "metadata": {},
   "source": [
    "Now you can explore the VZ-1 STAC catalog!"
   ]
  },
  {
   "cell_type": "markdown",
   "id": "4d6abab4-2816-48b1-9269-f8e06bc4b122",
   "metadata": {},
   "source": [
    "## 3. Define your search terms."
   ]
  },
  {
   "cell_type": "markdown",
   "id": "f751d036-2b9f-4315-98dc-6b3f655fe408",
   "metadata": {},
   "source": [
    "The catalog contains VZ-1 imagery from around the globe. Let's start with a simple search of the catalog limited only by the collection of interest and the maximum total number of items. \n",
    "\n",
    "Be patient! You may need to wait several seconds for the response to your query."
   ]
  },
  {
   "cell_type": "code",
   "execution_count": 19,
   "id": "a6bd4925-4582-4357-a743-074b9e9f365c",
   "metadata": {},
   "outputs": [],
   "source": [
    "collections = [\"pydms_sharpened_landsat\"] # SUB THIS FOR VZ COLLECTIONS WHEN AVAILABLE"
   ]
  },
  {
   "cell_type": "code",
   "execution_count": 20,
   "id": "3a2be2f9-337d-4a68-88c8-62dfda07ee8e",
   "metadata": {},
   "outputs": [
    {
     "name": "stdout",
     "output_type": "stream",
     "text": [
      "Found 100 items.\n"
     ]
    }
   ],
   "source": [
    "search = catalog.search(\n",
    "    collections = collections,\n",
    "    max_items=100)\n",
    "\n",
    "items_in_collection = search.get_all_items()\n",
    "\n",
    "print(\"Found \" + str(len(list(items_in_collection))) + \" items.\")"
   ]
  },
  {
   "cell_type": "markdown",
   "id": "37453383-0399-4223-b012-10d51912ba5c",
   "metadata": {},
   "source": [
    "### Searching by area of interest"
   ]
  },
  {
   "cell_type": "markdown",
   "id": "3cab88b1-16f8-4fb7-ab22-18324722a994",
   "metadata": {},
   "source": [
    "We can add more criteria to ```catalog.search()``` to find data that intersects a specific location."
   ]
  },
  {
   "cell_type": "markdown",
   "id": "8a8f1911-6c3e-4e9c-bcf9-0fa3aa0ce2fe",
   "metadata": {},
   "source": [
    "We'll start by defining a point geometry in California's Central Valley. This ```geom``` will be used as an input to ```catalog.search()```. Any imagery that overlaps this point will be returned."
   ]
  },
  {
   "cell_type": "code",
   "execution_count": 21,
   "id": "d3206c94-e030-4f5c-8ca4-1af13b53decf",
   "metadata": {},
   "outputs": [],
   "source": [
    "point_geom = {'type': 'Point', 'coordinates': [-120.211,36.535]} # Point for Hanford, CA, USA"
   ]
  },
  {
   "cell_type": "code",
   "execution_count": 22,
   "id": "0cd3d15d-65af-4597-a5a9-12c69cb4eee0",
   "metadata": {},
   "outputs": [
    {
     "name": "stdout",
     "output_type": "stream",
     "text": [
      "Found 10 items.\n"
     ]
    }
   ],
   "source": [
    "search = catalog.search(\n",
    "    collections = collections,\n",
    "    intersects = point_geom,\n",
    "    max_items = 10\n",
    ")\n",
    "\n",
    "items_intersecting_point = search.get_all_items()\n",
    "\n",
    "print(\"Found \" + str(len(list(items_intersecting_point))) + \" items.\")"
   ]
  },
  {
   "cell_type": "markdown",
   "id": "dcb08e44-4175-4341-b502-b79ea0275a73",
   "metadata": {},
   "source": [
    "We can use any GeoJSON geometry type with ```intersects```, including a MultiPoint, LineString, MultiLineString, Polygon, or MultiPolygon. For example, we can define:"
   ]
  },
  {
   "cell_type": "code",
   "execution_count": 23,
   "id": "263d4823-7462-44e1-89c6-dd535d553fc8",
   "metadata": {},
   "outputs": [],
   "source": [
    "poly_geom = {'type': 'Polygon', 'coordinates': [[[-119.67,36.34],\n",
    "                                            [-119.67,36.29],\n",
    "                                            [-119.60,36.29],\n",
    "                                            [-119.60,36.34],\n",
    "                                            [-119.67,36.34]]]} # Polygon for Hanford, CA, USA"
   ]
  },
  {
   "cell_type": "markdown",
   "id": "86523adb-76ea-4d84-bbcf-a56986df9b82",
   "metadata": {},
   "source": [
    "And repeat the search:"
   ]
  },
  {
   "cell_type": "code",
   "execution_count": 24,
   "id": "34beaff6-9484-4973-aabc-4a6990489759",
   "metadata": {},
   "outputs": [
    {
     "name": "stdout",
     "output_type": "stream",
     "text": [
      "Found 10 items.\n"
     ]
    }
   ],
   "source": [
    "search = catalog.search(\n",
    "    collections = collections,\n",
    "    intersects = poly_geom,\n",
    "    max_items = 10\n",
    ")\n",
    "\n",
    "items_intersecting_poly = search.get_all_items()\n",
    "\n",
    "print(\"Found \" + str(len(list(items_intersecting_poly))) + \" items.\")"
   ]
  },
  {
   "cell_type": "markdown",
   "id": "37d428fe-46c2-4c38-ba60-9f2e11af4e1f",
   "metadata": {},
   "source": [
    "Alternatively, we can search with a bounding box instead of using ```intersects```."
   ]
  },
  {
   "cell_type": "code",
   "execution_count": 25,
   "id": "74e849de-2ff8-480b-b1eb-1abbfc9b31ba",
   "metadata": {},
   "outputs": [],
   "source": [
    "bbox = [-120.3, 36.5, -120.2, 36.6] # [lon_min, lat_min, lon_max, lat_max]"
   ]
  },
  {
   "cell_type": "code",
   "execution_count": 26,
   "id": "6afea776-4a80-4ee9-bb60-711ca3334541",
   "metadata": {},
   "outputs": [
    {
     "name": "stdout",
     "output_type": "stream",
     "text": [
      "Found 10 items.\n"
     ]
    }
   ],
   "source": [
    "search = catalog.search(\n",
    "    collections = collections,\n",
    "    bbox = bbox,\n",
    "    max_items = 10\n",
    ")\n",
    "\n",
    "items_intersecting_bbox = search.get_all_items()\n",
    "\n",
    "print(\"Found \" + str(len(list(items_intersecting_bbox))) + \" items.\")"
   ]
  },
  {
   "cell_type": "markdown",
   "id": "3a57948d-c6c8-4729-a759-2f13ec96b341",
   "metadata": {},
   "source": [
    "### Searching by date range"
   ]
  },
  {
   "cell_type": "markdown",
   "id": "0986bdbe-46cd-45c6-80d4-568f9844f0e7",
   "metadata": {},
   "source": [
    "We can also specify the start and end dates (and times) for the search. Let's request all imagery captured between August 17, 2021 and September 20, 2021 (inclusive)."
   ]
  },
  {
   "cell_type": "code",
   "execution_count": 27,
   "id": "d186bcd8-1edf-4744-9f63-117f3184c930",
   "metadata": {},
   "outputs": [],
   "source": [
    "start_date = \"2021-08-17\"\n",
    "start_time = \"T00:00:00Z\"\n",
    "\n",
    "end_date = \"2021-09-20\"\n",
    "end_time = \"T00:00:00Z\""
   ]
  },
  {
   "cell_type": "code",
   "execution_count": 28,
   "id": "4e9a0298-5ccf-422a-869b-b8e1fb4cb9a4",
   "metadata": {},
   "outputs": [
    {
     "name": "stdout",
     "output_type": "stream",
     "text": [
      "Found 10 items.\n"
     ]
    }
   ],
   "source": [
    "search = catalog.search(\n",
    "    collections = collections,\n",
    "    datetime = [start_date+start_time, end_date+end_time],\n",
    "    max_items = 10\n",
    ")\n",
    "\n",
    "items_in_daterange = search.get_all_items()\n",
    "\n",
    "print(\"Found \" + str(len(list(items_in_daterange))) + \" items.\")"
   ]
  },
  {
   "cell_type": "markdown",
   "id": "1cddebaf-79dc-4c7c-8a45-71f125a30d96",
   "metadata": {},
   "source": [
    "We can include this information along with our AOI to find all items that meet both criteria."
   ]
  },
  {
   "cell_type": "code",
   "execution_count": 31,
   "id": "126880a6-2fdb-4a3d-b140-9f33683fe258",
   "metadata": {},
   "outputs": [
    {
     "name": "stdout",
     "output_type": "stream",
     "text": [
      "Found 4 items.\n"
     ]
    }
   ],
   "source": [
    "search = catalog.search(\n",
    "    collections = collections,\n",
    "    intersects = point_geom,\n",
    "    datetime = [start_date+start_time, end_date+end_time],\n",
    "    max_items = 10\n",
    ")\n",
    "\n",
    "items_place_and_time = search.get_all_items()\n",
    "\n",
    "print(\"Found \" + str(len(list(items_place_and_time))) + \" items.\")"
   ]
  },
  {
   "cell_type": "markdown",
   "id": "92442a53-e98f-4969-9f88-c4343886db1c",
   "metadata": {},
   "source": [
    "### Searching by metadata tag"
   ]
  },
  {
   "cell_type": "markdown",
   "id": "48ed6521-c4bd-4d0f-98df-9da97032501a",
   "metadata": {},
   "source": [
    "Anything listed under an item's ```properties``` is also acceptable for use as a search filter. Here, we'll first explore the available ```properties```. "
   ]
  },
  {
   "cell_type": "code",
   "execution_count": 32,
   "id": "2ef623bf-fb7e-4f29-bf49-24b005dc2787",
   "metadata": {},
   "outputs": [
    {
     "data": {
      "text/plain": [
       "{'product': 'Landsat',\n",
       " 'mgrs_tile': '10SGF',\n",
       " 'processing:software': {'geo-pipeline': 'default', 'pydms': '1.0.0'},\n",
       " 'processing:lineage': '',\n",
       " 'processing:level': 'L3',\n",
       " 'hydrosat:stage': 'sharpen_output',\n",
       " 'hydrosat:fusion_inputs': ['t0_pair', 'hires'],\n",
       " 'datetime': '2021-09-15T18:34:12.169587Z',\n",
       " 'processing:prep-sharpen-fuse-version': '26.1',\n",
       " 'processing:cirrus_run': 'CR_2023-05-08T23:29:31.018732',\n",
       " 'processing:cirrus': True,\n",
       " 'processing:geo_version': '',\n",
       " 'processing:hires_tolerance_days': 15,\n",
       " 'processing:output_resolution': 20,\n",
       " 'processing:overwrite_outputs': True,\n",
       " 'processing:public': True,\n",
       " 'processing:qa_screen_opts': {'landsat': True,\n",
       "  'S2': True,\n",
       "  'ECO': True,\n",
       "  'MCD43': True,\n",
       "  'MOD21': True,\n",
       "  'VNP43': True,\n",
       "  'VNP21': True},\n",
       " 'processing:replace': True,\n",
       " 'processing:run_fusion': True,\n",
       " 'processing:run_prepare': True,\n",
       " 'processing:run_sharpen': True,\n",
       " 'processing:pydms_common_opts': {'useDecisionTree': True,\n",
       "  'lowResQualityFiles': [],\n",
       "  'lowResGoodQualityFlags': [1],\n",
       "  'cvHomogeneityThreshold': 0,\n",
       "  'movingWindowSize': 15,\n",
       "  'disaggregatingTemperature': True,\n",
       "  'gapFill': True,\n",
       "  'globalOnly': False},\n",
       " 'processing:pydms_dt_opts': {'perLeafLinearRegression': True,\n",
       "  'linearRegressionExtrapolationRatio': 0.25,\n",
       "  'baggingRegressorOpt': {'random_state': 0},\n",
       "  'regressorOpt': {'random_state': 0,\n",
       "   'max_leaf_nodes': 30,\n",
       "   'min_samples_leaf': 10}},\n",
       " 'processing:pydms_sknn_opts': {},\n",
       " 'processing:pydms_nn_opts': {},\n",
       " 'processing:s2_composite_method': 'median',\n",
       " 'processing:sr_only': False,\n",
       " 'processing:temporal_normalization': 'None',\n",
       " 'processing:test_mode': False,\n",
       " 'processing:time_of_day_range': [0, 23],\n",
       " 'processing:url': '',\n",
       " 'hydrosat:data_coverage': 67.45,\n",
       " 'created': '2023-01-12T21:29:55.077Z',\n",
       " 'updated': '2023-05-09T03:22:10.312Z'}"
      ]
     },
     "execution_count": 32,
     "metadata": {},
     "output_type": "execute_result"
    }
   ],
   "source": [
    "items_place_and_time[0].properties"
   ]
  },
  {
   "cell_type": "markdown",
   "id": "f0490527-9f6b-4eb4-9666-06ba11d95d9c",
   "metadata": {},
   "source": [
    "Let's try it out. \n",
    "\n",
    "We'll use the ```hydrosat:data_coverage``` property to further constrain our search based on data availability. Specifically, we only want images from our AOI and within our date range that have at least 50% data coverage. To streamline our result, we'll use ```sortby``` to sort the items by increasing coverage. If we wanted to sort by decreasing coverage, we could substitute the \"+\" character in ```sortby``` for \"-\"."
   ]
  },
  {
   "cell_type": "code",
   "execution_count": 33,
   "id": "1a0be4e8-64c1-4040-8860-a305d48744f5",
   "metadata": {},
   "outputs": [
    {
     "name": "stdout",
     "output_type": "stream",
     "text": [
      "Found 3 items.\n"
     ]
    }
   ],
   "source": [
    "search = catalog.search(\n",
    "    collections = collections,\n",
    "    intersects = point_geom,\n",
    "    datetime = [start_date+start_time, end_date+end_time],\n",
    "    query = [\"hydrosat:data_coverage>50\"],\n",
    "    sortby=[\"+properties.hydrosat:data_coverage\"],\n",
    "    max_items = 100\n",
    ")\n",
    "\n",
    "items_filtered_by_metadata_tag = search.get_all_items()\n",
    "\n",
    "print(\"Found \" + str(len(list(items_filtered_by_metadata_tag))) + \" items.\")"
   ]
  },
  {
   "cell_type": "markdown",
   "id": "6ed276ca-993e-43b8-a1b4-289afee613ef",
   "metadata": {},
   "source": [
    "### Summary of approaches"
   ]
  },
  {
   "cell_type": "markdown",
   "id": "b2ebff5b-d699-43f5-840d-79642f61d5fc",
   "metadata": {},
   "source": [
    "Whether you're interested in searching for data by AOI, date range, metadata tag, or all of the above, you can use the API to find what you need."
   ]
  },
  {
   "cell_type": "markdown",
   "id": "424990b0-ba3b-4cc5-a6a5-be5e2dbf17ea",
   "metadata": {},
   "source": [
    "Let's summarize the number of items we retrieved with each search above."
   ]
  },
  {
   "cell_type": "code",
   "execution_count": 62,
   "id": "49024f85-c4c7-4ba9-949e-5e8ebf750289",
   "metadata": {},
   "outputs": [
    {
     "data": {
      "image/png": "[encoded data removed]",
      "text/plain": [
       "<Figure size 800x300 with 1 Axes>"
      ]
     },
     "metadata": {},
     "output_type": "display_data"
    }
   ],
   "source": [
    "n_items = [len(list(i)) for i in [items_in_collection,\n",
    "                                  items_intersecting_point,\n",
    "                                  items_in_daterange,\n",
    "                                  items_place_and_time,\n",
    "                                  items_filtered_by_metadata_tag]]\n",
    "\n",
    "plt.figure(figsize=(8,3))\n",
    "plt.barh(y=range(len(n_items)),\n",
    "         width=n_items[::-1],\n",
    "         facecolor='gray', \n",
    "         edgecolor='black',\n",
    "         zorder=2);\n",
    "plt.yticks(range(len(n_items)),\n",
    "          ['In collection',\n",
    "          'In collection and intersecting AOI',\n",
    "          'In collection and date range',\n",
    "          'In collection, AOI, and date range',\n",
    "          'In collection, AOI, date range, and metadata filter'][::-1]);\n",
    "plt.xlabel('Number of items')\n",
    "plt.grid(which='major', axis='x', color='lightgray')"
   ]
  },
  {
   "cell_type": "code",
   "execution_count": null,
   "id": "e7ef4a20-6a01-4aba-b1bb-09258ebda76b",
   "metadata": {},
   "outputs": [],
   "source": []
  }
 ],
 "metadata": {
  "execution": {
   "timeout": -1
  },
  "kernelspec": {
   "display_name": "Python 3 (ipykernel)",
   "language": "python",
   "name": "python3"
  },
  "language_info": {
   "codemirror_mode": {
    "name": "ipython",
    "version": 3
   },
   "file_extension": ".py",
   "mimetype": "text/x-python",
   "name": "python",
   "nbconvert_exporter": "python",
   "pygments_lexer": "ipython3",
   "version": "3.11.6"
  }
 },
 "nbformat": 4,
 "nbformat_minor": 5
}
